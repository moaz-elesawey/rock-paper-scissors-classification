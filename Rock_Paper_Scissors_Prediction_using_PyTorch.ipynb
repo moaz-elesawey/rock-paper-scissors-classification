{
  "nbformat": 4,
  "nbformat_minor": 0,
  "metadata": {
    "colab": {
      "provenance": []
    },
    "kernelspec": {
      "name": "python3",
      "display_name": "Python 3"
    },
    "language_info": {
      "name": "python"
    },
    "accelerator": "GPU",
    "gpuClass": "standard",
    "widgets": {
      "application/vnd.jupyter.widget-state+json": {
        "cc1bdcbe45e3429abc00d6d24e0fd3c9": {
          "model_module": "@jupyter-widgets/controls",
          "model_name": "HBoxModel",
          "model_module_version": "1.5.0",
          "state": {
            "_dom_classes": [],
            "_model_module": "@jupyter-widgets/controls",
            "_model_module_version": "1.5.0",
            "_model_name": "HBoxModel",
            "_view_count": null,
            "_view_module": "@jupyter-widgets/controls",
            "_view_module_version": "1.5.0",
            "_view_name": "HBoxView",
            "box_style": "",
            "children": [
              "IPY_MODEL_6b63dd82e7884ebf8e4d5b598fe8ba88",
              "IPY_MODEL_0a2b80e59a8e46eab1adb5e57e4cbb54",
              "IPY_MODEL_8388aaafa43247d9be0cb5247c5b8c7f"
            ],
            "layout": "IPY_MODEL_f5f3f4fc77ab42d8b262b7b05855987a"
          }
        },
        "6b63dd82e7884ebf8e4d5b598fe8ba88": {
          "model_module": "@jupyter-widgets/controls",
          "model_name": "HTMLModel",
          "model_module_version": "1.5.0",
          "state": {
            "_dom_classes": [],
            "_model_module": "@jupyter-widgets/controls",
            "_model_module_version": "1.5.0",
            "_model_name": "HTMLModel",
            "_view_count": null,
            "_view_module": "@jupyter-widgets/controls",
            "_view_module_version": "1.5.0",
            "_view_name": "HTMLView",
            "description": "",
            "description_tooltip": null,
            "layout": "IPY_MODEL_9b9d065958e3469f89e13e9121a67486",
            "placeholder": "​",
            "style": "IPY_MODEL_c3f2c11462eb4a819983c02a83c6821b",
            "value": "100%"
          }
        },
        "0a2b80e59a8e46eab1adb5e57e4cbb54": {
          "model_module": "@jupyter-widgets/controls",
          "model_name": "FloatProgressModel",
          "model_module_version": "1.5.0",
          "state": {
            "_dom_classes": [],
            "_model_module": "@jupyter-widgets/controls",
            "_model_module_version": "1.5.0",
            "_model_name": "FloatProgressModel",
            "_view_count": null,
            "_view_module": "@jupyter-widgets/controls",
            "_view_module_version": "1.5.0",
            "_view_name": "ProgressView",
            "bar_style": "success",
            "description": "",
            "description_tooltip": null,
            "layout": "IPY_MODEL_9b10f6b0fe6f4d65a7d646dc6659e892",
            "max": 10,
            "min": 0,
            "orientation": "horizontal",
            "style": "IPY_MODEL_85fe73b7f8324527a6dda485ff3bbcbe",
            "value": 10
          }
        },
        "8388aaafa43247d9be0cb5247c5b8c7f": {
          "model_module": "@jupyter-widgets/controls",
          "model_name": "HTMLModel",
          "model_module_version": "1.5.0",
          "state": {
            "_dom_classes": [],
            "_model_module": "@jupyter-widgets/controls",
            "_model_module_version": "1.5.0",
            "_model_name": "HTMLModel",
            "_view_count": null,
            "_view_module": "@jupyter-widgets/controls",
            "_view_module_version": "1.5.0",
            "_view_name": "HTMLView",
            "description": "",
            "description_tooltip": null,
            "layout": "IPY_MODEL_4efa02a2399d4130862c9b1a1dc015d5",
            "placeholder": "​",
            "style": "IPY_MODEL_c31566e8009a4c4084078ae3a6ee8cfd",
            "value": " 10/10 [01:06&lt;00:00,  6.59s/it]"
          }
        },
        "f5f3f4fc77ab42d8b262b7b05855987a": {
          "model_module": "@jupyter-widgets/base",
          "model_name": "LayoutModel",
          "model_module_version": "1.2.0",
          "state": {
            "_model_module": "@jupyter-widgets/base",
            "_model_module_version": "1.2.0",
            "_model_name": "LayoutModel",
            "_view_count": null,
            "_view_module": "@jupyter-widgets/base",
            "_view_module_version": "1.2.0",
            "_view_name": "LayoutView",
            "align_content": null,
            "align_items": null,
            "align_self": null,
            "border": null,
            "bottom": null,
            "display": null,
            "flex": null,
            "flex_flow": null,
            "grid_area": null,
            "grid_auto_columns": null,
            "grid_auto_flow": null,
            "grid_auto_rows": null,
            "grid_column": null,
            "grid_gap": null,
            "grid_row": null,
            "grid_template_areas": null,
            "grid_template_columns": null,
            "grid_template_rows": null,
            "height": null,
            "justify_content": null,
            "justify_items": null,
            "left": null,
            "margin": null,
            "max_height": null,
            "max_width": null,
            "min_height": null,
            "min_width": null,
            "object_fit": null,
            "object_position": null,
            "order": null,
            "overflow": null,
            "overflow_x": null,
            "overflow_y": null,
            "padding": null,
            "right": null,
            "top": null,
            "visibility": null,
            "width": null
          }
        },
        "9b9d065958e3469f89e13e9121a67486": {
          "model_module": "@jupyter-widgets/base",
          "model_name": "LayoutModel",
          "model_module_version": "1.2.0",
          "state": {
            "_model_module": "@jupyter-widgets/base",
            "_model_module_version": "1.2.0",
            "_model_name": "LayoutModel",
            "_view_count": null,
            "_view_module": "@jupyter-widgets/base",
            "_view_module_version": "1.2.0",
            "_view_name": "LayoutView",
            "align_content": null,
            "align_items": null,
            "align_self": null,
            "border": null,
            "bottom": null,
            "display": null,
            "flex": null,
            "flex_flow": null,
            "grid_area": null,
            "grid_auto_columns": null,
            "grid_auto_flow": null,
            "grid_auto_rows": null,
            "grid_column": null,
            "grid_gap": null,
            "grid_row": null,
            "grid_template_areas": null,
            "grid_template_columns": null,
            "grid_template_rows": null,
            "height": null,
            "justify_content": null,
            "justify_items": null,
            "left": null,
            "margin": null,
            "max_height": null,
            "max_width": null,
            "min_height": null,
            "min_width": null,
            "object_fit": null,
            "object_position": null,
            "order": null,
            "overflow": null,
            "overflow_x": null,
            "overflow_y": null,
            "padding": null,
            "right": null,
            "top": null,
            "visibility": null,
            "width": null
          }
        },
        "c3f2c11462eb4a819983c02a83c6821b": {
          "model_module": "@jupyter-widgets/controls",
          "model_name": "DescriptionStyleModel",
          "model_module_version": "1.5.0",
          "state": {
            "_model_module": "@jupyter-widgets/controls",
            "_model_module_version": "1.5.0",
            "_model_name": "DescriptionStyleModel",
            "_view_count": null,
            "_view_module": "@jupyter-widgets/base",
            "_view_module_version": "1.2.0",
            "_view_name": "StyleView",
            "description_width": ""
          }
        },
        "9b10f6b0fe6f4d65a7d646dc6659e892": {
          "model_module": "@jupyter-widgets/base",
          "model_name": "LayoutModel",
          "model_module_version": "1.2.0",
          "state": {
            "_model_module": "@jupyter-widgets/base",
            "_model_module_version": "1.2.0",
            "_model_name": "LayoutModel",
            "_view_count": null,
            "_view_module": "@jupyter-widgets/base",
            "_view_module_version": "1.2.0",
            "_view_name": "LayoutView",
            "align_content": null,
            "align_items": null,
            "align_self": null,
            "border": null,
            "bottom": null,
            "display": null,
            "flex": null,
            "flex_flow": null,
            "grid_area": null,
            "grid_auto_columns": null,
            "grid_auto_flow": null,
            "grid_auto_rows": null,
            "grid_column": null,
            "grid_gap": null,
            "grid_row": null,
            "grid_template_areas": null,
            "grid_template_columns": null,
            "grid_template_rows": null,
            "height": null,
            "justify_content": null,
            "justify_items": null,
            "left": null,
            "margin": null,
            "max_height": null,
            "max_width": null,
            "min_height": null,
            "min_width": null,
            "object_fit": null,
            "object_position": null,
            "order": null,
            "overflow": null,
            "overflow_x": null,
            "overflow_y": null,
            "padding": null,
            "right": null,
            "top": null,
            "visibility": null,
            "width": null
          }
        },
        "85fe73b7f8324527a6dda485ff3bbcbe": {
          "model_module": "@jupyter-widgets/controls",
          "model_name": "ProgressStyleModel",
          "model_module_version": "1.5.0",
          "state": {
            "_model_module": "@jupyter-widgets/controls",
            "_model_module_version": "1.5.0",
            "_model_name": "ProgressStyleModel",
            "_view_count": null,
            "_view_module": "@jupyter-widgets/base",
            "_view_module_version": "1.2.0",
            "_view_name": "StyleView",
            "bar_color": null,
            "description_width": ""
          }
        },
        "4efa02a2399d4130862c9b1a1dc015d5": {
          "model_module": "@jupyter-widgets/base",
          "model_name": "LayoutModel",
          "model_module_version": "1.2.0",
          "state": {
            "_model_module": "@jupyter-widgets/base",
            "_model_module_version": "1.2.0",
            "_model_name": "LayoutModel",
            "_view_count": null,
            "_view_module": "@jupyter-widgets/base",
            "_view_module_version": "1.2.0",
            "_view_name": "LayoutView",
            "align_content": null,
            "align_items": null,
            "align_self": null,
            "border": null,
            "bottom": null,
            "display": null,
            "flex": null,
            "flex_flow": null,
            "grid_area": null,
            "grid_auto_columns": null,
            "grid_auto_flow": null,
            "grid_auto_rows": null,
            "grid_column": null,
            "grid_gap": null,
            "grid_row": null,
            "grid_template_areas": null,
            "grid_template_columns": null,
            "grid_template_rows": null,
            "height": null,
            "justify_content": null,
            "justify_items": null,
            "left": null,
            "margin": null,
            "max_height": null,
            "max_width": null,
            "min_height": null,
            "min_width": null,
            "object_fit": null,
            "object_position": null,
            "order": null,
            "overflow": null,
            "overflow_x": null,
            "overflow_y": null,
            "padding": null,
            "right": null,
            "top": null,
            "visibility": null,
            "width": null
          }
        },
        "c31566e8009a4c4084078ae3a6ee8cfd": {
          "model_module": "@jupyter-widgets/controls",
          "model_name": "DescriptionStyleModel",
          "model_module_version": "1.5.0",
          "state": {
            "_model_module": "@jupyter-widgets/controls",
            "_model_module_version": "1.5.0",
            "_model_name": "DescriptionStyleModel",
            "_view_count": null,
            "_view_module": "@jupyter-widgets/base",
            "_view_module_version": "1.2.0",
            "_view_name": "StyleView",
            "description_width": ""
          }
        }
      }
    }
  },
  "cells": [
    {
      "cell_type": "code",
      "source": [
        "## Download the dataset from Kaggle\n",
        "## Upload your kaggle.json to colab or just download it avoid running this cell.\n",
        "!mkdir /root/.kaggle/\n",
        "!mv kaggle.json /root/.kaggle/"
      ],
      "metadata": {
        "id": "0Zy55G2h4DPn"
      },
      "execution_count": 1,
      "outputs": []
    },
    {
      "cell_type": "code",
      "source": [
        "!kaggle datasets download -d drgfreeman/rockpaperscissors\n",
        "!unzip rockpaperscissors.zip -d rockpaperscissors"
      ],
      "metadata": {
        "id": "RPgNGWKl0kua"
      },
      "execution_count": null,
      "outputs": []
    },
    {
      "cell_type": "code",
      "source": [
        "!rm -rf rockpaperscissors/rps-cv-images\n",
        "!rm -rf rockpaperscissors/README_rpc-cv-images.txt"
      ],
      "metadata": {
        "id": "06IQ-siXAi4E"
      },
      "execution_count": 3,
      "outputs": []
    },
    {
      "cell_type": "code",
      "source": [
        "!pip install torchinfo"
      ],
      "metadata": {
        "colab": {
          "base_uri": "https://localhost:8080/"
        },
        "id": "Ns7T7m7umOQY",
        "outputId": "11398754-efa0-42af-91e8-dd01c0d79396"
      },
      "execution_count": 4,
      "outputs": [
        {
          "output_type": "stream",
          "name": "stdout",
          "text": [
            "Looking in indexes: https://pypi.org/simple, https://us-python.pkg.dev/colab-wheels/public/simple/\n",
            "Collecting torchinfo\n",
            "  Downloading torchinfo-1.7.1-py3-none-any.whl (22 kB)\n",
            "Installing collected packages: torchinfo\n",
            "Successfully installed torchinfo-1.7.1\n"
          ]
        }
      ]
    },
    {
      "cell_type": "code",
      "source": [
        "import os\n",
        "import shutil\n",
        "import math\n",
        "from tqdm.auto import tqdm\n",
        "import numpy as np\n",
        "import matplotlib.pyplot as plt\n",
        "\n",
        "import torch\n",
        "import torch.nn as nn\n",
        "from torch.utils.data import Dataset, DataLoader\n",
        "from torchvision import datasets, transforms\n",
        "import torchinfo"
      ],
      "metadata": {
        "id": "-wssSA-GcXIt"
      },
      "execution_count": 5,
      "outputs": []
    },
    {
      "cell_type": "code",
      "source": [
        "class DirectorySetup:\n",
        "    def __init__(self, raw_path: str, test_size: float=0.1, val_size: float=0.1) -> None:\n",
        "        self.raw_path = os.path.join(raw_path)\n",
        "        self.test_size = test_size\n",
        "        self.val_size = val_size\n",
        "        self.train_size = 1 - (test_size + val_size)\n",
        "\n",
        "        self.n_files = 0\n",
        "        self.n_classes = 0\n",
        "\n",
        "        self.data_dir_names = [\"train\", \"test\", \"valid\"]\n",
        "        self.data_dir_props = [self.train_size, self.test_size, self.val_size]\n",
        "\n",
        "    def setup(self, preprocessed_name: str):\n",
        "        self.preprocessed_dir = preprocessed_name\n",
        "        if not os.path.isdir(self.preprocessed_dir):\n",
        "            os.mkdir(self.preprocessed_dir)\n",
        "\n",
        "        self.classes = os.listdir(self.raw_path)\n",
        "        self.n_classes = len(self.classes)\n",
        "\n",
        "        self._create_directories()\n",
        "        self._populate_directories()\n",
        "\n",
        "    def _create_directories(self):\n",
        "\n",
        "        for data_type in self.data_dir_names:\n",
        "            type_path = os.path.join(self.preprocessed_dir, data_type)\n",
        "            if not os.path.isdir(type_path): os.mkdir(type_path)\n",
        "\n",
        "            for cls in self.classes:\n",
        "                ## create the data class path and check if a dir is already exists\n",
        "                cls_path = os.path.join(self.preprocessed_dir, data_type, cls)\n",
        "                if not os.path.isdir(cls_path): os.mkdir(cls_path)\n",
        "\n",
        "    def _get_raw_class_path(self, cls: str):\n",
        "        return os.path.join(self.raw_path, cls)\n",
        "\n",
        "    def _get_class_path(self, typ: str, cls: str):\n",
        "        return os.path.join(self.preprocessed_dir, typ, cls)\n",
        "    \n",
        "    def _get_class_size(self, typ, cls, prop):\n",
        "        return int(math.floor(len(os.listdir(os.path.join(self.raw_path, cls))) * prop))\n",
        "\n",
        "    def _populate_directories(self):\n",
        "        \n",
        "        self.raw_images = {\n",
        "            cls: os.listdir(self._get_raw_class_path(cls))\n",
        "                 for cls in self.classes\n",
        "        }\n",
        "\n",
        "        self._sizes = {\n",
        "            typ: {\n",
        "                cls: self._get_class_size(typ, cls, prop)\n",
        "                     for cls in self.classes\n",
        "            } for typ, prop in zip(self.data_dir_names, self.data_dir_props)\n",
        "        }\n",
        "\n",
        "        print(self._sizes)\n",
        "\n",
        "        self._images = {\n",
        "            typ: {\n",
        "                cls: []\n",
        "                     for cls in self.classes\n",
        "            } for typ in self.data_dir_names\n",
        "        }\n",
        "\n",
        "        start = 0\n",
        "        for typ in self.data_dir_names:\n",
        "            start = 0\n",
        "            for cls in self.classes:\n",
        "                size = self._sizes[typ][cls]\n",
        "                start = 0\n",
        "\n",
        "                for i in range(start, start+size):\n",
        "                    try:\n",
        "                        img = self.raw_images[cls][i]\n",
        "                        src = os.path.join(self._get_raw_class_path(cls), img)\n",
        "                        dst = os.path.join(self._get_class_path(typ, cls), img)\n",
        "                        self._images[typ][cls].append(img)\n",
        "\n",
        "                        shutil.copy(src, dst)\n",
        "\n",
        "                    except Exception as e:\n",
        "                        # print(str(e))\n",
        "                        pass\n",
        "\n",
        "            start += size\n",
        "\n",
        "        self.n_files = sum( [sum([ len(self._images[typ][cls]) for cls in self.classes ]) for typ in self.data_dir_names] )\n",
        "        \n",
        "    def __repr__(self):\n",
        "        return \"Found {} files belongs to {} Classes\".format(self.n_files, self.n_classes)\n"
      ],
      "metadata": {
        "id": "lyIneYRE5O18"
      },
      "execution_count": 6,
      "outputs": []
    },
    {
      "cell_type": "code",
      "source": [
        "!rm -rf /content/rockpaperscissors_cleaned"
      ],
      "metadata": {
        "id": "WdrvHi_kY30e"
      },
      "execution_count": 7,
      "outputs": []
    },
    {
      "cell_type": "code",
      "source": [
        "dir_setup = DirectorySetup(\"rockpaperscissors\")\n",
        "dir_setup.setup(\"rockpaperscissors_cleaned\")\n",
        "\n",
        "print(dir_setup)"
      ],
      "metadata": {
        "colab": {
          "base_uri": "https://localhost:8080/"
        },
        "id": "p2Clg3W_5Ozl",
        "outputId": "a145318e-acec-4959-eaa9-08d1f738749e"
      },
      "execution_count": 8,
      "outputs": [
        {
          "output_type": "stream",
          "name": "stdout",
          "text": [
            "{'train': {'rock': 580, 'paper': 569, 'scissors': 600}, 'test': {'rock': 72, 'paper': 71, 'scissors': 75}, 'valid': {'rock': 72, 'paper': 71, 'scissors': 75}}\n",
            "Found 2185 files belongs to 3 Classes\n"
          ]
        }
      ]
    },
    {
      "cell_type": "code",
      "source": [
        "BASE_DIR = \"rockpaperscissors_cleaned\"\n",
        "\n",
        "train_dir = os.path.join(BASE_DIR, \"train\")\n",
        "valid_dir = os.path.join(BASE_DIR, \"valid\")\n",
        "test_dir  = os.path.join(BASE_DIR, \"test\" )"
      ],
      "metadata": {
        "id": "X9qSMra9ddSw"
      },
      "execution_count": 9,
      "outputs": []
    },
    {
      "cell_type": "code",
      "source": [
        "IMAGE_SIZE = 100\n",
        "\n",
        "train_ds = datasets.ImageFolder(\n",
        "    train_dir,\n",
        "    transform=transforms.Compose([\n",
        "        transforms.Resize(IMAGE_SIZE),\n",
        "        transforms.CenterCrop(IMAGE_SIZE),\n",
        "        transforms.RandomRotation(45.),\n",
        "        transforms.RandomVerticalFlip(),\n",
        "        transforms.RandomHorizontalFlip(),\n",
        "        transforms.ToTensor(),\n",
        "        transforms.Normalize(\n",
        "            mean=[0.485, 0.456, 0.406],\n",
        "            std=[0.229, 0.224, 0.225]\n",
        "        ),\n",
        "    ]),\n",
        ")\n",
        "\n",
        "valid_ds = datasets.ImageFolder(\n",
        "    valid_dir,\n",
        "    transform=transforms.Compose([\n",
        "        transforms.Resize(IMAGE_SIZE),\n",
        "        transforms.CenterCrop(IMAGE_SIZE),\n",
        "        transforms.ToTensor(),\n",
        "        transforms.Normalize(\n",
        "            mean=[0.485, 0.456, 0.406],\n",
        "            std=[0.229, 0.224, 0.225]\n",
        "        ),\n",
        "\n",
        "    ]),\n",
        ")\n",
        "\n",
        "test_ds = datasets.ImageFolder(\n",
        "    test_dir,\n",
        "    transform=transforms.Compose([\n",
        "        transforms.Resize(IMAGE_SIZE),\n",
        "        transforms.CenterCrop(IMAGE_SIZE),\n",
        "        transforms.ToTensor(),\n",
        "        transforms.Normalize(\n",
        "            mean=[0.485, 0.456, 0.406],\n",
        "            std=[0.229, 0.224, 0.225]\n",
        "        ),\n",
        "    ]),\n",
        ")\n"
      ],
      "metadata": {
        "id": "f59FnBMKWJMi"
      },
      "execution_count": 10,
      "outputs": []
    },
    {
      "cell_type": "code",
      "source": [
        "classes = train_ds.class_to_idx\n",
        "classes = dict(zip(classes.values(), classes.keys()))\n",
        "classes"
      ],
      "metadata": {
        "colab": {
          "base_uri": "https://localhost:8080/"
        },
        "id": "EheuieVqYof0",
        "outputId": "7dcb085f-8a10-47cc-f6b3-2bd377610785"
      },
      "execution_count": 11,
      "outputs": [
        {
          "output_type": "execute_result",
          "data": {
            "text/plain": [
              "{0: 'paper', 1: 'rock', 2: 'scissors'}"
            ]
          },
          "metadata": {},
          "execution_count": 11
        }
      ]
    },
    {
      "cell_type": "code",
      "execution_count": 12,
      "metadata": {
        "id": "may1oYFI3dEm"
      },
      "outputs": [],
      "source": [
        "BATCH_SIZE = 32\n",
        "\n",
        "train_dl = DataLoader(train_ds, batch_size=BATCH_SIZE, shuffle=True)\n",
        "valid_dl = DataLoader(valid_ds, batch_size=BATCH_SIZE, shuffle=True)\n",
        "test_dl  = DataLoader(test_ds , batch_size=BATCH_SIZE, shuffle=True)"
      ]
    },
    {
      "cell_type": "code",
      "source": [
        "for images, labels in train_dl:\n",
        "    print(images.shape, labels.shape)\n",
        "    break"
      ],
      "metadata": {
        "colab": {
          "base_uri": "https://localhost:8080/"
        },
        "id": "AAZ_z1K6fqUa",
        "outputId": "88367a48-2812-4fce-881f-e6c7aecdcefa"
      },
      "execution_count": 13,
      "outputs": [
        {
          "output_type": "stream",
          "name": "stdout",
          "text": [
            "torch.Size([32, 3, 100, 100]) torch.Size([32])\n"
          ]
        }
      ]
    },
    {
      "cell_type": "code",
      "source": [
        "class RockPaperScissors_Model_V1(nn.Module):\n",
        "    def __init__(self):\n",
        "        super().__init__()\n",
        "\n",
        "        self.block_1 = nn.Sequential(\n",
        "            nn.Conv2d(in_channels= 3, out_channels=64, kernel_size=3, stride=1, padding=1),\n",
        "            nn.ReLU(),\n",
        "            nn.Conv2d(in_channels=64, out_channels=32, kernel_size=3, stride=1, padding=1),\n",
        "            nn.ReLU(),\n",
        "            nn.MaxPool2d(kernel_size=2),\n",
        "        )\n",
        "\n",
        "        self.block_2 = nn.Sequential(\n",
        "            nn.Conv2d(in_channels=32, out_channels=16, kernel_size=3, stride=1, padding=1),\n",
        "            nn.ReLU(),\n",
        "            nn.Conv2d(in_channels=16, out_channels=32, kernel_size=3, stride=1, padding=1),\n",
        "            nn.ReLU(),\n",
        "            nn.MaxPool2d(kernel_size=2),\n",
        "        )\n",
        "\n",
        "        self.block_3 = nn.Sequential(\n",
        "            nn.Conv2d(in_channels=32, out_channels=16, kernel_size=3, stride=1, padding=1),\n",
        "            nn.ReLU(),\n",
        "            nn.Conv2d(in_channels=16, out_channels=16, kernel_size=3, stride=1, padding=1),\n",
        "            nn.ReLU(),\n",
        "            nn.MaxPool2d(kernel_size=2),\n",
        "        )\n",
        "        \n",
        "        in_features = self.__get_size()\n",
        "\n",
        "        self.block_4 = nn.Sequential(\n",
        "            nn.Flatten(),\n",
        "            nn.Linear(in_features=in_features, out_features=32),\n",
        "            nn.ReLU(),\n",
        "            nn.Linear(in_features=32, out_features=3),\n",
        "        )\n",
        "\n",
        "    def __get_size(self):\n",
        "        conv_out_shape = np.asarray(self.block_3(self.block_2(self.block_1(\n",
        "            torch.rand(32, 3, IMAGE_SIZE, IMAGE_SIZE)))\n",
        "        ).shape)\n",
        "\n",
        "        return np.product(conv_out_shape[1:])\n",
        "\n",
        "    def forward(self, x):\n",
        "        out = self.block_1(x)\n",
        "        out = self.block_2(out)\n",
        "        out = self.block_3(out)\n",
        "        out = self.block_4(out)\n",
        "\n",
        "        return out\n"
      ],
      "metadata": {
        "id": "2RsrfnHEf21h"
      },
      "execution_count": 14,
      "outputs": []
    },
    {
      "cell_type": "code",
      "source": [
        "device = \"cuda\" if torch.cuda.is_available() else \"cpu\"\n",
        "print(\"Device Used: \", device)\n",
        "\n",
        "model_v1 = RockPaperScissors_Model_V1().to(device)"
      ],
      "metadata": {
        "colab": {
          "base_uri": "https://localhost:8080/"
        },
        "id": "zU0dzz_Fkmg3",
        "outputId": "44aae7a0-64e1-49f8-c219-253c6762b054"
      },
      "execution_count": 15,
      "outputs": [
        {
          "output_type": "stream",
          "name": "stdout",
          "text": [
            "Device Used:  cuda\n"
          ]
        }
      ]
    },
    {
      "cell_type": "code",
      "source": [
        "torchinfo.summary(model_v1, input_size=(32, 3, IMAGE_SIZE, IMAGE_SIZE), device=device)"
      ],
      "metadata": {
        "colab": {
          "base_uri": "https://localhost:8080/"
        },
        "id": "Kp4z679VlIeB",
        "outputId": "38a9226c-af8c-4923-d0c1-f951f8e3405f"
      },
      "execution_count": 16,
      "outputs": [
        {
          "output_type": "execute_result",
          "data": {
            "text/plain": [
              "==========================================================================================\n",
              "Layer (type:depth-idx)                   Output Shape              Param #\n",
              "==========================================================================================\n",
              "RockPaperScissors_Model_V1               [32, 3]                   --\n",
              "├─Sequential: 1-1                        [32, 32, 50, 50]          --\n",
              "│    └─Conv2d: 2-1                       [32, 64, 100, 100]        1,792\n",
              "│    └─ReLU: 2-2                         [32, 64, 100, 100]        --\n",
              "│    └─Conv2d: 2-3                       [32, 32, 100, 100]        18,464\n",
              "│    └─ReLU: 2-4                         [32, 32, 100, 100]        --\n",
              "│    └─MaxPool2d: 2-5                    [32, 32, 50, 50]          --\n",
              "├─Sequential: 1-2                        [32, 32, 25, 25]          --\n",
              "│    └─Conv2d: 2-6                       [32, 16, 50, 50]          4,624\n",
              "│    └─ReLU: 2-7                         [32, 16, 50, 50]          --\n",
              "│    └─Conv2d: 2-8                       [32, 32, 50, 50]          4,640\n",
              "│    └─ReLU: 2-9                         [32, 32, 50, 50]          --\n",
              "│    └─MaxPool2d: 2-10                   [32, 32, 25, 25]          --\n",
              "├─Sequential: 1-3                        [32, 16, 12, 12]          --\n",
              "│    └─Conv2d: 2-11                      [32, 16, 25, 25]          4,624\n",
              "│    └─ReLU: 2-12                        [32, 16, 25, 25]          --\n",
              "│    └─Conv2d: 2-13                      [32, 16, 25, 25]          2,320\n",
              "│    └─ReLU: 2-14                        [32, 16, 25, 25]          --\n",
              "│    └─MaxPool2d: 2-15                   [32, 16, 12, 12]          --\n",
              "├─Sequential: 1-4                        [32, 3]                   --\n",
              "│    └─Flatten: 2-16                     [32, 2304]                --\n",
              "│    └─Linear: 2-17                      [32, 32]                  73,760\n",
              "│    └─ReLU: 2-18                        [32, 32]                  --\n",
              "│    └─Linear: 2-19                      [32, 3]                   99\n",
              "==========================================================================================\n",
              "Total params: 110,323\n",
              "Trainable params: 110,323\n",
              "Non-trainable params: 0\n",
              "Total mult-adds (G): 7.36\n",
              "==========================================================================================\n",
              "Input size (MB): 3.84\n",
              "Forward/backward pass size (MB): 281.61\n",
              "Params size (MB): 0.44\n",
              "Estimated Total Size (MB): 285.89\n",
              "=========================================================================================="
            ]
          },
          "metadata": {},
          "execution_count": 16
        }
      ]
    },
    {
      "cell_type": "code",
      "source": [
        "criterion = nn.CrossEntropyLoss()\n",
        "optimizer = torch.optim.Adam(params=model_v1.parameters(), lr=1e-3)"
      ],
      "metadata": {
        "id": "DRiiFIuJsAUZ"
      },
      "execution_count": 17,
      "outputs": []
    },
    {
      "cell_type": "code",
      "source": [
        "class Trainer:\n",
        "    def __init__(self, model, criterion, optimizer, device, verbose=True):\n",
        "        self.model = model\n",
        "        self.criterion = criterion\n",
        "        self.optimizer = optimizer\n",
        "        self.device = device\n",
        "        self.verbose = verbose\n",
        "\n",
        "        self.results = {\n",
        "            \"train_loss\": [],\n",
        "            \"valid_loss\": [],\n",
        "            \"train_acc\" : [],\n",
        "            \"valid_acc\" : [],\n",
        "        }\n",
        "\n",
        "        self.fitted = False\n",
        "\n",
        "\n",
        "    def __train_step(self, train_dl: DataLoader, valid_dl: DataLoader):\n",
        "\n",
        "        train_acc, train_loss = 0, 0\n",
        "        valid_acc, valid_loss = 0, 0\n",
        "\n",
        "        for batch, (images, labels) in enumerate(train_dl):\n",
        "            images, labels = images.to(self.device), labels.to(self.device)\n",
        "\n",
        "            predictions = self.model(images)\n",
        "\n",
        "            loss = self.criterion(predictions, labels)\n",
        "            \n",
        "            train_loss += loss.item()\n",
        "            train_acc += torch.sum( torch.argmax(\n",
        "                torch.softmax(predictions, dim=1), dim=1) == labels \n",
        "                ).item() / len(labels)\n",
        "\n",
        "            self.optimizer.zero_grad()\n",
        "\n",
        "            loss.backward()\n",
        "\n",
        "            self.optimizer.step()\n",
        "\n",
        "        train_loss /= len(train_dl)\n",
        "        train_acc /= len(train_dl)\n",
        "\n",
        "        self.model.eval()\n",
        "\n",
        "        with torch.inference_mode():\n",
        "            for batch, (images, labels) in enumerate(valid_dl):\n",
        "                images, labels = images.to(self.device), labels.to(self.device)\n",
        "\n",
        "                predictions = self.model(images)\n",
        "\n",
        "                loss = self.criterion(predictions, labels)\n",
        "                \n",
        "                valid_loss += loss.item()\n",
        "                valid_acc += torch.sum( torch.argmax(\n",
        "                    torch.softmax(predictions, dim=1), dim=1) == labels \n",
        "                    ).item() / len(labels)\n",
        "\n",
        "            valid_loss /= len(valid_dl)\n",
        "            valid_acc /= len(valid_dl)\n",
        "\n",
        "        return train_loss, train_acc, valid_loss, valid_acc\n",
        "\n",
        "\n",
        "    def __test_step(self, test_dl: DataLoader):\n",
        "\n",
        "        test_acc, test_loss = 0, 0\n",
        "\n",
        "        self.model.eval()\n",
        "\n",
        "        with torch.inference_mode():\n",
        "            for batch, (images, labels) in enumerate(test_dl):\n",
        "                images, labels = images.to(self.device), labels.to(self.device)\n",
        "\n",
        "                predictions = self.model(images)\n",
        "\n",
        "                loss = self.criterion(predictions, labels)\n",
        "                \n",
        "                test_loss += loss.item()\n",
        "                test_acc += torch.sum( torch.argmax(\n",
        "                    torch.softmax(predictions, dim=1), dim=1) == labels \n",
        "                    ).item() / len(labels)\n",
        "\n",
        "            test_loss /= len(test_dl)\n",
        "            test_acc /= len(test_dl)\n",
        "\n",
        "        return test_acc, test_loss\n",
        "\n",
        "\n",
        "    def train(self, train_dl: DataLoader, valid_dl: DataLoader, epochs: int=10):\n",
        "\n",
        "        self.model.train()\n",
        "\n",
        "        for i in tqdm(range(epochs)):\n",
        "\n",
        "            train_loss, train_acc, valid_loss, valid_acc = self.__train_step(train_dl, valid_dl)\n",
        "\n",
        "            self.results[\"train_loss\"].append(train_loss)\n",
        "            self.results[\"valid_loss\"].append(valid_loss)\n",
        "            self.results[\"train_acc\"].append(train_acc)\n",
        "            self.results[\"valid_acc\"].append(valid_acc)\n",
        "\n",
        "            if self.verbose:\n",
        "                print(\"Epoch [{:2d}/{:2d}] Train Loss : {:8.3f} | Train Acc: {:8.3f} | Valid Loss: {:8.3f} | Valid Acc: {:8.3f}\"\\\n",
        "                      .format(i+1, epochs, train_loss, train_acc, valid_loss, valid_acc))\n",
        "        \n",
        "        self.fitted = True\n",
        "\n",
        "        return self.results\n",
        "\n",
        "\n",
        "    def evaluate(self, test_dl: DataLoader):\n",
        "        if not self.fitted:\n",
        "            raise ValueError(\"must fit the mode first. call train method first\")\n",
        "\n",
        "        test_acc, test_loss = self.__test_step(test_dl)\n",
        "        \n",
        "        if self.verbose:\n",
        "            print(\"Test Loss : {:8.3f} | Test Acc: {:8.3f}\".format(test_loss, test_acc))\n",
        "\n",
        "        return test_loss, test_acc\n",
        "\n",
        "\n",
        "    def plot_model_results(self):\n",
        "\n",
        "        if not self.fitted:\n",
        "            raise ValueError(\"must fit the mode first. call train method first\")\n",
        "\n",
        "        fig, (ax1, ax2) = plt.subplots(nrows=1, ncols=2, figsize=(14, 4))\n",
        "        \n",
        "        xdata = range(1, len(self.results[\"train_acc\"])+1)\n",
        "\n",
        "        ax1.plot(xdata, self.results[\"train_loss\"], label=\"Train Loss\")\n",
        "        ax1.plot(xdata, self.results[\"valid_loss\"], label=\"Valid Loss\")\n",
        "        ax1.set_xlabel(\"Epochs\");ax1.set_ylabel(\"Loss\")\n",
        "        ax1.set_title(\"Model Loss\")\n",
        "\n",
        "        ax2.plot(xdata, self.results[\"train_acc\"], label=\"Train Acc\")\n",
        "        ax2.plot(xdata, self.results[\"valid_acc\"], label=\"Valid Acc\")\n",
        "        ax2.set_xlabel(\"Epochs\");ax2.set_ylabel(\"Accuracy\")\n",
        "        ax2.set_title(\"Model Accuracy\")\n",
        "\n",
        "        ax1.legend(); ax2.legend()\n",
        "\n",
        "\n",
        "    def save(self, filename: str):\n",
        "        if not self.fitted:\n",
        "            raise ValueError(\"must fit the mode first. call train method first\")\n",
        "\n",
        "        torch.save(self.model, filename)\n",
        "\n",
        "        print(\"Model Saved Successfully as [{}]\".format(filename))\n",
        "\n",
        "\n",
        "    def load(self, filename: str):\n",
        "        model = torch.load(filename)\n",
        "\n",
        "        print(\"Model Loaded Successfully from [{}]\".format(filename))\n",
        "\n",
        "        return model\n"
      ],
      "metadata": {
        "id": "NbNkJ84dmKn5"
      },
      "execution_count": 18,
      "outputs": []
    },
    {
      "cell_type": "code",
      "source": [
        "EPOCHS = 10\n",
        "\n",
        "trainer = Trainer(model=model_v1, criterion=criterion, optimizer=optimizer, device=device)"
      ],
      "metadata": {
        "id": "G7E5eqoawF8i"
      },
      "execution_count": 19,
      "outputs": []
    },
    {
      "cell_type": "code",
      "source": [
        "model_v1_results = trainer.train(train_dl=train_dl, valid_dl=valid_dl, epochs=EPOCHS)"
      ],
      "metadata": {
        "colab": {
          "base_uri": "https://localhost:8080/",
          "height": 223,
          "referenced_widgets": [
            "cc1bdcbe45e3429abc00d6d24e0fd3c9",
            "6b63dd82e7884ebf8e4d5b598fe8ba88",
            "0a2b80e59a8e46eab1adb5e57e4cbb54",
            "8388aaafa43247d9be0cb5247c5b8c7f",
            "f5f3f4fc77ab42d8b262b7b05855987a",
            "9b9d065958e3469f89e13e9121a67486",
            "c3f2c11462eb4a819983c02a83c6821b",
            "9b10f6b0fe6f4d65a7d646dc6659e892",
            "85fe73b7f8324527a6dda485ff3bbcbe",
            "4efa02a2399d4130862c9b1a1dc015d5",
            "c31566e8009a4c4084078ae3a6ee8cfd"
          ]
        },
        "id": "HQYa_5lt_xYT",
        "outputId": "2368c736-b305-446b-ccea-bcfabfa93d9b"
      },
      "execution_count": 20,
      "outputs": [
        {
          "output_type": "display_data",
          "data": {
            "text/plain": [
              "  0%|          | 0/10 [00:00<?, ?it/s]"
            ],
            "application/vnd.jupyter.widget-view+json": {
              "version_major": 2,
              "version_minor": 0,
              "model_id": "cc1bdcbe45e3429abc00d6d24e0fd3c9"
            }
          },
          "metadata": {}
        },
        {
          "output_type": "stream",
          "name": "stdout",
          "text": [
            "Epoch [ 1/10] Train Loss :    0.961 | Train Acc:    0.497 | Valid Loss:    0.719 | Valid Acc:    0.684\n",
            "Epoch [ 2/10] Train Loss :    0.611 | Train Acc:    0.753 | Valid Loss:    0.473 | Valid Acc:    0.799\n",
            "Epoch [ 3/10] Train Loss :    0.305 | Train Acc:    0.897 | Valid Loss:    0.174 | Valid Acc:    0.959\n",
            "Epoch [ 4/10] Train Loss :    0.195 | Train Acc:    0.933 | Valid Loss:    0.155 | Valid Acc:    0.950\n",
            "Epoch [ 5/10] Train Loss :    0.153 | Train Acc:    0.950 | Valid Loss:    0.092 | Valid Acc:    0.969\n",
            "Epoch [ 6/10] Train Loss :    0.127 | Train Acc:    0.955 | Valid Loss:    0.091 | Valid Acc:    0.973\n",
            "Epoch [ 7/10] Train Loss :    0.106 | Train Acc:    0.963 | Valid Loss:    0.098 | Valid Acc:    0.967\n",
            "Epoch [ 8/10] Train Loss :    0.136 | Train Acc:    0.957 | Valid Loss:    0.085 | Valid Acc:    0.977\n",
            "Epoch [ 9/10] Train Loss :    0.089 | Train Acc:    0.973 | Valid Loss:    0.056 | Valid Acc:    0.985\n",
            "Epoch [10/10] Train Loss :    0.074 | Train Acc:    0.976 | Valid Loss:    0.039 | Valid Acc:    0.987\n"
          ]
        }
      ]
    },
    {
      "cell_type": "code",
      "source": [
        "trainer.plot_model_results()"
      ],
      "metadata": {
        "colab": {
          "base_uri": "https://localhost:8080/",
          "height": 295
        },
        "id": "2R53-D8S3k3E",
        "outputId": "819aa2e3-9bb6-46e0-c88a-cdc01c003b58"
      },
      "execution_count": 21,
      "outputs": [
        {
          "output_type": "display_data",
          "data": {
            "text/plain": [
              "<Figure size 1008x288 with 2 Axes>"
            ],
            "image/png": "[encoded data removed]"
          },
          "metadata": {
            "needs_background": "light"
          }
        }
      ]
    },
    {
      "cell_type": "code",
      "source": [
        "trainer.evaluate(test_dl)"
      ],
      "metadata": {
        "colab": {
          "base_uri": "https://localhost:8080/"
        },
        "id": "R_bZ-Q3J600n",
        "outputId": "0b8094e2-bb1e-4c84-9422-8ebd792a4736"
      },
      "execution_count": 22,
      "outputs": [
        {
          "output_type": "stream",
          "name": "stdout",
          "text": [
            "Test Loss :    0.041 | Test Acc:    0.986\n"
          ]
        },
        {
          "output_type": "execute_result",
          "data": {
            "text/plain": [
              "(0.0411000753353749, 0.9855769230769231)"
            ]
          },
          "metadata": {},
          "execution_count": 22
        }
      ]
    },
    {
      "cell_type": "code",
      "source": [
        "trainer.save(\"model_v1.pt\")"
      ],
      "metadata": {
        "colab": {
          "base_uri": "https://localhost:8080/"
        },
        "id": "vwIZ8z5M7Iic",
        "outputId": "b8ebad8e-965d-4554-d5b2-3aecf7969453"
      },
      "execution_count": 23,
      "outputs": [
        {
          "output_type": "stream",
          "name": "stdout",
          "text": [
            "Model Saved Successfully as [model_v1.pt]\n"
          ]
        }
      ]
    },
    {
      "cell_type": "code",
      "source": [
        "!ls -la | grep model_v1.pt"
      ],
      "metadata": {
        "colab": {
          "base_uri": "https://localhost:8080/"
        },
        "id": "8USe3MYtA3Sf",
        "outputId": "2d4eba85-09d3-4be7-ec65-cb97c056f4f5"
      },
      "execution_count": 24,
      "outputs": [
        {
          "output_type": "stream",
          "name": "stdout",
          "text": [
            "-rw-r--r-- 1 root root    451061 Dec  7 17:19 model_v1.pt\n"
          ]
        }
      ]
    },
    {
      "cell_type": "code",
      "source": [
        "loaded_model_v1 = trainer.load(\"model_v1.pt\")\n",
        "torchinfo.summary(loaded_model_v1, input_size=(32, 3, IMAGE_SIZE, IMAGE_SIZE), device=device)"
      ],
      "metadata": {
        "colab": {
          "base_uri": "https://localhost:8080/"
        },
        "id": "Ode622dn_sjB",
        "outputId": "e710ff9e-4754-4591-aa96-4383041c2d9f"
      },
      "execution_count": 25,
      "outputs": [
        {
          "output_type": "stream",
          "name": "stdout",
          "text": [
            "Model Loaded Successfully from [model_v1.pt]\n"
          ]
        },
        {
          "output_type": "execute_result",
          "data": {
            "text/plain": [
              "==========================================================================================\n",
              "Layer (type:depth-idx)                   Output Shape              Param #\n",
              "==========================================================================================\n",
              "RockPaperScissors_Model_V1               [32, 3]                   --\n",
              "├─Sequential: 1-1                        [32, 32, 50, 50]          --\n",
              "│    └─Conv2d: 2-1                       [32, 64, 100, 100]        1,792\n",
              "│    └─ReLU: 2-2                         [32, 64, 100, 100]        --\n",
              "│    └─Conv2d: 2-3                       [32, 32, 100, 100]        18,464\n",
              "│    └─ReLU: 2-4                         [32, 32, 100, 100]        --\n",
              "│    └─MaxPool2d: 2-5                    [32, 32, 50, 50]          --\n",
              "├─Sequential: 1-2                        [32, 32, 25, 25]          --\n",
              "│    └─Conv2d: 2-6                       [32, 16, 50, 50]          4,624\n",
              "│    └─ReLU: 2-7                         [32, 16, 50, 50]          --\n",
              "│    └─Conv2d: 2-8                       [32, 32, 50, 50]          4,640\n",
              "│    └─ReLU: 2-9                         [32, 32, 50, 50]          --\n",
              "│    └─MaxPool2d: 2-10                   [32, 32, 25, 25]          --\n",
              "├─Sequential: 1-3                        [32, 16, 12, 12]          --\n",
              "│    └─Conv2d: 2-11                      [32, 16, 25, 25]          4,624\n",
              "│    └─ReLU: 2-12                        [32, 16, 25, 25]          --\n",
              "│    └─Conv2d: 2-13                      [32, 16, 25, 25]          2,320\n",
              "│    └─ReLU: 2-14                        [32, 16, 25, 25]          --\n",
              "│    └─MaxPool2d: 2-15                   [32, 16, 12, 12]          --\n",
              "├─Sequential: 1-4                        [32, 3]                   --\n",
              "│    └─Flatten: 2-16                     [32, 2304]                --\n",
              "│    └─Linear: 2-17                      [32, 32]                  73,760\n",
              "│    └─ReLU: 2-18                        [32, 32]                  --\n",
              "│    └─Linear: 2-19                      [32, 3]                   99\n",
              "==========================================================================================\n",
              "Total params: 110,323\n",
              "Trainable params: 110,323\n",
              "Non-trainable params: 0\n",
              "Total mult-adds (G): 7.36\n",
              "==========================================================================================\n",
              "Input size (MB): 3.84\n",
              "Forward/backward pass size (MB): 281.61\n",
              "Params size (MB): 0.44\n",
              "Estimated Total Size (MB): 285.89\n",
              "=========================================================================================="
            ]
          },
          "metadata": {},
          "execution_count": 25
        }
      ]
    },
    {
      "cell_type": "code",
      "source": [
        "import PIL\n",
        "import torch\n",
        "from torchvision import transforms\n",
        "\n",
        "\n",
        "class Prediction:\n",
        "    def __init__(self, image_data: PIL.Image):\n",
        "        self.image_data = image_data\n",
        "\n",
        "        self._transformations = transforms.Compose([\n",
        "            transforms.Resize(IMAGE_SIZE),\n",
        "            transforms.CenterCrop(IMAGE_SIZE),\n",
        "            transforms.ToTensor(),\n",
        "            transforms.Normalize(\n",
        "                mean=[0.485, 0.456, 0.406],\n",
        "                std=[0.229, 0.224, 0.225]\n",
        "            ),\n",
        "        ])\n",
        "\n",
        "    def __apply_transforms(self):\n",
        "        transformed_image = self._transformations(self.image_data)\\\n",
        "                        .view(1, 3, IMAGE_SIZE, IMAGE_SIZE)\n",
        "\n",
        "        return transformed_image.to(device)\n",
        "\n",
        "\n",
        "    def predict(self, model: torch.nn.Module, device: torch.cuda.device):\n",
        "        transformed_image = self.__apply_transforms()\n",
        "        prediction_logit = model(transformed_image.to(device))\n",
        "        prediction_probs = torch.softmax(prediction_logit, dim=1)\n",
        "\n",
        "        self._prediction = classes[torch.argmax(prediction_probs).item()]\n",
        "        self._confidance = torch.max(prediction_probs).item()\n",
        "\n",
        "        return self\n",
        "\n",
        "    @classmethod\n",
        "    def from_file(cls, filename: str):\n",
        "        image = PIL.Image.open(filename)\n",
        "\n",
        "        return cls(image)\n",
        "\n",
        "\n",
        "    def results(self):\n",
        "        return f\"Prediction: {self._prediction}, Confidance: {self._confidance*100:.2f}%\"\n"
      ],
      "metadata": {
        "id": "3K8hohRrYWA_"
      },
      "execution_count": 26,
      "outputs": []
    },
    {
      "cell_type": "code",
      "source": [
        "pred = Prediction.from_file(\"/content/rockpaperscissors/scissors/0CSaM2vL2cWX6Cay.png\").predict(model_v1, device)\n",
        "print(pred.results())"
      ],
      "metadata": {
        "colab": {
          "base_uri": "https://localhost:8080/"
        },
        "id": "wLTo_UTEZG-z",
        "outputId": "d30daa49-4205-4584-9fea-e593a09b0326"
      },
      "execution_count": 27,
      "outputs": [
        {
          "output_type": "stream",
          "name": "stdout",
          "text": [
            "Prediction: scissors, Confidance: 99.30%\n"
          ]
        }
      ]
    },
    {
      "cell_type": "code",
      "source": [
        "pred = Prediction.from_file(\"/content/rockpaperscissors/scissors/1UojLz4CrT2G1Eo5.png\").predict(model_v1, device)\n",
        "print(pred.results())"
      ],
      "metadata": {
        "colab": {
          "base_uri": "https://localhost:8080/"
        },
        "id": "gKJbN5C2Zd6Y",
        "outputId": "0db6c8f4-3a62-4f4b-9bcb-eaaa6d0bc123"
      },
      "execution_count": 28,
      "outputs": [
        {
          "output_type": "stream",
          "name": "stdout",
          "text": [
            "Prediction: scissors, Confidance: 99.98%\n"
          ]
        }
      ]
    },
    {
      "cell_type": "code",
      "source": [
        "pred = Prediction.from_file(\"/content/rockpaperscissors_cleaned/test/paper/0zKU6wEhT2cDe9j0.png\").predict(model_v1, device)\n",
        "print(pred.results())"
      ],
      "metadata": {
        "colab": {
          "base_uri": "https://localhost:8080/"
        },
        "id": "aCDaRsZLaS1N",
        "outputId": "3721dab1-3a13-41ce-aa9f-a653baf66500"
      },
      "execution_count": 29,
      "outputs": [
        {
          "output_type": "stream",
          "name": "stdout",
          "text": [
            "Prediction: paper, Confidance: 100.00%\n"
          ]
        }
      ]
    },
    {
      "cell_type": "code",
      "source": [
        "pred = Prediction.from_file(\"/content/rockpaperscissors_cleaned/test/rock/5nKDkVzIMQWmtReM.png\").predict(model_v1, device)\n",
        "print(pred.results())"
      ],
      "metadata": {
        "colab": {
          "base_uri": "https://localhost:8080/"
        },
        "id": "sRCQAhBmaTZ7",
        "outputId": "c05a7755-547a-47b5-e6c6-64c7d8ee5627"
      },
      "execution_count": 30,
      "outputs": [
        {
          "output_type": "stream",
          "name": "stdout",
          "text": [
            "Prediction: rock, Confidance: 99.80%\n"
          ]
        }
      ]
    }
  ]
}