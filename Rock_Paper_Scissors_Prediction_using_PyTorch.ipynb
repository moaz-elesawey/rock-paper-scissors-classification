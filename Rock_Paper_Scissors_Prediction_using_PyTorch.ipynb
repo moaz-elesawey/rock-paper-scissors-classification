{
  "nbformat": 4,
  "nbformat_minor": 0,
  "metadata": {
    "colab": {
      "provenance": []
    },
    "kernelspec": {
      "name": "python3",
      "display_name": "Python 3"
    },
    "language_info": {
      "name": "python"
    },
    "accelerator": "GPU",
    "gpuClass": "standard",
    "widgets": {
      "application/vnd.jupyter.widget-state+json": {
        "66968d88e274495291bbac8e32a54cdb": {
          "model_module": "@jupyter-widgets/controls",
          "model_name": "HBoxModel",
          "model_module_version": "1.5.0",
          "state": {
            "_dom_classes": [],
            "_model_module": "@jupyter-widgets/controls",
            "_model_module_version": "1.5.0",
            "_model_name": "HBoxModel",
            "_view_count": null,
            "_view_module": "@jupyter-widgets/controls",
            "_view_module_version": "1.5.0",
            "_view_name": "HBoxView",
            "box_style": "",
            "children": [
              "IPY_MODEL_bcb65f3a652e4d029811698f4e9be7aa",
              "IPY_MODEL_3c5f5ca4f9144c1d9f28a67a2f4fab4f",
              "IPY_MODEL_0ac80f4701c94cfcb39cedf77d688966"
            ],
            "layout": "IPY_MODEL_a81861cfb80e4ce0b3fab7a65bfb3a17"
          }
        },
        "bcb65f3a652e4d029811698f4e9be7aa": {
          "model_module": "@jupyter-widgets/controls",
          "model_name": "HTMLModel",
          "model_module_version": "1.5.0",
          "state": {
            "_dom_classes": [],
            "_model_module": "@jupyter-widgets/controls",
            "_model_module_version": "1.5.0",
            "_model_name": "HTMLModel",
            "_view_count": null,
            "_view_module": "@jupyter-widgets/controls",
            "_view_module_version": "1.5.0",
            "_view_name": "HTMLView",
            "description": "",
            "description_tooltip": null,
            "layout": "IPY_MODEL_507312fbaccb45fc8f375cbb790e9962",
            "placeholder": "​",
            "style": "IPY_MODEL_c1804757d09e45d183aea5857f3e0450",
            "value": "100%"
          }
        },
        "3c5f5ca4f9144c1d9f28a67a2f4fab4f": {
          "model_module": "@jupyter-widgets/controls",
          "model_name": "FloatProgressModel",
          "model_module_version": "1.5.0",
          "state": {
            "_dom_classes": [],
            "_model_module": "@jupyter-widgets/controls",
            "_model_module_version": "1.5.0",
            "_model_name": "FloatProgressModel",
            "_view_count": null,
            "_view_module": "@jupyter-widgets/controls",
            "_view_module_version": "1.5.0",
            "_view_name": "ProgressView",
            "bar_style": "success",
            "description": "",
            "description_tooltip": null,
            "layout": "IPY_MODEL_bf5508185c5546f28794c39d9452e781",
            "max": 10,
            "min": 0,
            "orientation": "horizontal",
            "style": "IPY_MODEL_77b6ccc76bc9485f893884a508f1cc15",
            "value": 10
          }
        },
        "0ac80f4701c94cfcb39cedf77d688966": {
          "model_module": "@jupyter-widgets/controls",
          "model_name": "HTMLModel",
          "model_module_version": "1.5.0",
          "state": {
            "_dom_classes": [],
            "_model_module": "@jupyter-widgets/controls",
            "_model_module_version": "1.5.0",
            "_model_name": "HTMLModel",
            "_view_count": null,
            "_view_module": "@jupyter-widgets/controls",
            "_view_module_version": "1.5.0",
            "_view_name": "HTMLView",
            "description": "",
            "description_tooltip": null,
            "layout": "IPY_MODEL_9ac1573c363b44368e3c4e34b70829fe",
            "placeholder": "​",
            "style": "IPY_MODEL_740fec54c64c4e6e964f11dabd263c61",
            "value": " 10/10 [01:04&lt;00:00,  6.27s/it]"
          }
        },
        "a81861cfb80e4ce0b3fab7a65bfb3a17": {
          "model_module": "@jupyter-widgets/base",
          "model_name": "LayoutModel",
          "model_module_version": "1.2.0",
          "state": {
            "_model_module": "@jupyter-widgets/base",
            "_model_module_version": "1.2.0",
            "_model_name": "LayoutModel",
            "_view_count": null,
            "_view_module": "@jupyter-widgets/base",
            "_view_module_version": "1.2.0",
            "_view_name": "LayoutView",
            "align_content": null,
            "align_items": null,
            "align_self": null,
            "border": null,
            "bottom": null,
            "display": null,
            "flex": null,
            "flex_flow": null,
            "grid_area": null,
            "grid_auto_columns": null,
            "grid_auto_flow": null,
            "grid_auto_rows": null,
            "grid_column": null,
            "grid_gap": null,
            "grid_row": null,
            "grid_template_areas": null,
            "grid_template_columns": null,
            "grid_template_rows": null,
            "height": null,
            "justify_content": null,
            "justify_items": null,
            "left": null,
            "margin": null,
            "max_height": null,
            "max_width": null,
            "min_height": null,
            "min_width": null,
            "object_fit": null,
            "object_position": null,
            "order": null,
            "overflow": null,
            "overflow_x": null,
            "overflow_y": null,
            "padding": null,
            "right": null,
            "top": null,
            "visibility": null,
            "width": null
          }
        },
        "507312fbaccb45fc8f375cbb790e9962": {
          "model_module": "@jupyter-widgets/base",
          "model_name": "LayoutModel",
          "model_module_version": "1.2.0",
          "state": {
            "_model_module": "@jupyter-widgets/base",
            "_model_module_version": "1.2.0",
            "_model_name": "LayoutModel",
            "_view_count": null,
            "_view_module": "@jupyter-widgets/base",
            "_view_module_version": "1.2.0",
            "_view_name": "LayoutView",
            "align_content": null,
            "align_items": null,
            "align_self": null,
            "border": null,
            "bottom": null,
            "display": null,
            "flex": null,
            "flex_flow": null,
            "grid_area": null,
            "grid_auto_columns": null,
            "grid_auto_flow": null,
            "grid_auto_rows": null,
            "grid_column": null,
            "grid_gap": null,
            "grid_row": null,
            "grid_template_areas": null,
            "grid_template_columns": null,
            "grid_template_rows": null,
            "height": null,
            "justify_content": null,
            "justify_items": null,
            "left": null,
            "margin": null,
            "max_height": null,
            "max_width": null,
            "min_height": null,
            "min_width": null,
            "object_fit": null,
            "object_position": null,
            "order": null,
            "overflow": null,
            "overflow_x": null,
            "overflow_y": null,
            "padding": null,
            "right": null,
            "top": null,
            "visibility": null,
            "width": null
          }
        },
        "c1804757d09e45d183aea5857f3e0450": {
          "model_module": "@jupyter-widgets/controls",
          "model_name": "DescriptionStyleModel",
          "model_module_version": "1.5.0",
          "state": {
            "_model_module": "@jupyter-widgets/controls",
            "_model_module_version": "1.5.0",
            "_model_name": "DescriptionStyleModel",
            "_view_count": null,
            "_view_module": "@jupyter-widgets/base",
            "_view_module_version": "1.2.0",
            "_view_name": "StyleView",
            "description_width": ""
          }
        },
        "bf5508185c5546f28794c39d9452e781": {
          "model_module": "@jupyter-widgets/base",
          "model_name": "LayoutModel",
          "model_module_version": "1.2.0",
          "state": {
            "_model_module": "@jupyter-widgets/base",
            "_model_module_version": "1.2.0",
            "_model_name": "LayoutModel",
            "_view_count": null,
            "_view_module": "@jupyter-widgets/base",
            "_view_module_version": "1.2.0",
            "_view_name": "LayoutView",
            "align_content": null,
            "align_items": null,
            "align_self": null,
            "border": null,
            "bottom": null,
            "display": null,
            "flex": null,
            "flex_flow": null,
            "grid_area": null,
            "grid_auto_columns": null,
            "grid_auto_flow": null,
            "grid_auto_rows": null,
            "grid_column": null,
            "grid_gap": null,
            "grid_row": null,
            "grid_template_areas": null,
            "grid_template_columns": null,
            "grid_template_rows": null,
            "height": null,
            "justify_content": null,
            "justify_items": null,
            "left": null,
            "margin": null,
            "max_height": null,
            "max_width": null,
            "min_height": null,
            "min_width": null,
            "object_fit": null,
            "object_position": null,
            "order": null,
            "overflow": null,
            "overflow_x": null,
            "overflow_y": null,
            "padding": null,
            "right": null,
            "top": null,
            "visibility": null,
            "width": null
          }
        },
        "77b6ccc76bc9485f893884a508f1cc15": {
          "model_module": "@jupyter-widgets/controls",
          "model_name": "ProgressStyleModel",
          "model_module_version": "1.5.0",
          "state": {
            "_model_module": "@jupyter-widgets/controls",
            "_model_module_version": "1.5.0",
            "_model_name": "ProgressStyleModel",
            "_view_count": null,
            "_view_module": "@jupyter-widgets/base",
            "_view_module_version": "1.2.0",
            "_view_name": "StyleView",
            "bar_color": null,
            "description_width": ""
          }
        },
        "9ac1573c363b44368e3c4e34b70829fe": {
          "model_module": "@jupyter-widgets/base",
          "model_name": "LayoutModel",
          "model_module_version": "1.2.0",
          "state": {
            "_model_module": "@jupyter-widgets/base",
            "_model_module_version": "1.2.0",
            "_model_name": "LayoutModel",
            "_view_count": null,
            "_view_module": "@jupyter-widgets/base",
            "_view_module_version": "1.2.0",
            "_view_name": "LayoutView",
            "align_content": null,
            "align_items": null,
            "align_self": null,
            "border": null,
            "bottom": null,
            "display": null,
            "flex": null,
            "flex_flow": null,
            "grid_area": null,
            "grid_auto_columns": null,
            "grid_auto_flow": null,
            "grid_auto_rows": null,
            "grid_column": null,
            "grid_gap": null,
            "grid_row": null,
            "grid_template_areas": null,
            "grid_template_columns": null,
            "grid_template_rows": null,
            "height": null,
            "justify_content": null,
            "justify_items": null,
            "left": null,
            "margin": null,
            "max_height": null,
            "max_width": null,
            "min_height": null,
            "min_width": null,
            "object_fit": null,
            "object_position": null,
            "order": null,
            "overflow": null,
            "overflow_x": null,
            "overflow_y": null,
            "padding": null,
            "right": null,
            "top": null,
            "visibility": null,
            "width": null
          }
        },
        "740fec54c64c4e6e964f11dabd263c61": {
          "model_module": "@jupyter-widgets/controls",
          "model_name": "DescriptionStyleModel",
          "model_module_version": "1.5.0",
          "state": {
            "_model_module": "@jupyter-widgets/controls",
            "_model_module_version": "1.5.0",
            "_model_name": "DescriptionStyleModel",
            "_view_count": null,
            "_view_module": "@jupyter-widgets/base",
            "_view_module_version": "1.2.0",
            "_view_name": "StyleView",
            "description_width": ""
          }
        }
      }
    }
  },
  "cells": [
    {
      "cell_type": "code",
      "source": [
        "## Download the dataset from Kaggle\n",
        "## Upload your kaggle.json to colab or just download it avoid running this cell.\n",
        "!mkdir /root/.kaggle/\n",
        "!mv kaggle.json /root/.kaggle/"
      ],
      "metadata": {
        "id": "0Zy55G2h4DPn"
      },
      "execution_count": null,
      "outputs": []
    },
    {
      "cell_type": "code",
      "source": [
        "!kaggle datasets download -d drgfreeman/rockpaperscissors\n",
        "!unzip rockpaperscissors.zip -d rockpaperscissors"
      ],
      "metadata": {
        "id": "RPgNGWKl0kua"
      },
      "execution_count": null,
      "outputs": []
    },
    {
      "cell_type": "code",
      "source": [
        "!rm -rf rockpaperscissors/rps-cv-images\n",
        "!rm -rf rockpaperscissors/README_rpc-cv-images.txt"
      ],
      "metadata": {
        "id": "06IQ-siXAi4E"
      },
      "execution_count": null,
      "outputs": []
    },
    {
      "cell_type": "code",
      "source": [
        "!pip install torchinfo"
      ],
      "metadata": {
        "colab": {
          "base_uri": "https://localhost:8080/"
        },
        "id": "Ns7T7m7umOQY",
        "outputId": "53dbe2fd-a8bd-4e03-e746-3c61f4ece3ff"
      },
      "execution_count": null,
      "outputs": [
        {
          "output_type": "stream",
          "name": "stdout",
          "text": [
            "Looking in indexes: https://pypi.org/simple, https://us-python.pkg.dev/colab-wheels/public/simple/\n",
            "Collecting torchinfo\n",
            "  Downloading torchinfo-1.7.1-py3-none-any.whl (22 kB)\n",
            "Installing collected packages: torchinfo\n",
            "Successfully installed torchinfo-1.7.1\n"
          ]
        }
      ]
    },
    {
      "cell_type": "code",
      "source": [
        "import os\n",
        "import shutil\n",
        "import math\n",
        "from tqdm.auto import tqdm\n",
        "import numpy as np\n",
        "import matplotlib.pyplot as plt\n",
        "\n",
        "import torch\n",
        "import torch.nn as nn\n",
        "from torch.utils.data import Dataset, DataLoader\n",
        "from torchvision import datasets, transforms\n",
        "import torchinfo"
      ],
      "metadata": {
        "id": "-wssSA-GcXIt"
      },
      "execution_count": null,
      "outputs": []
    },
    {
      "cell_type": "code",
      "source": [
        "class DirectorySetup:\n",
        "    def __init__(self, raw_path: str, test_size: float=0.1, val_size: float=0.1) -> None:\n",
        "        self.raw_path = os.path.join(raw_path)\n",
        "        self.test_size = test_size\n",
        "        self.val_size = val_size\n",
        "        self.train_size = 1 - (test_size + val_size)\n",
        "\n",
        "        self.n_files = 0\n",
        "        self.n_classes = 0\n",
        "\n",
        "        self.data_dir_names = [\"train\", \"test\", \"valid\"]\n",
        "        self.data_dir_props = [self.train_size, self.test_size, self.val_size]\n",
        "\n",
        "    def setup(self, preprocessed_name: str):\n",
        "        self.preprocessed_dir = preprocessed_name\n",
        "        if not os.path.isdir(self.preprocessed_dir):\n",
        "            os.mkdir(self.preprocessed_dir)\n",
        "\n",
        "        self.classes = os.listdir(self.raw_path)\n",
        "        self.n_classes = len(self.classes)\n",
        "\n",
        "        self._create_directories()\n",
        "        self._populate_directories()\n",
        "\n",
        "    def _create_directories(self):\n",
        "\n",
        "        for data_type in self.data_dir_names:\n",
        "            type_path = os.path.join(self.preprocessed_dir, data_type)\n",
        "            if not os.path.isdir(type_path): os.mkdir(type_path)\n",
        "\n",
        "            for cls in self.classes:\n",
        "                ## create the data class path and check if a dir is already exists\n",
        "                cls_path = os.path.join(self.preprocessed_dir, data_type, cls)\n",
        "                if not os.path.isdir(cls_path): os.mkdir(cls_path)\n",
        "\n",
        "    def _get_raw_class_path(self, cls: str):\n",
        "        return os.path.join(self.raw_path, cls)\n",
        "\n",
        "    def _get_class_path(self, typ: str, cls: str):\n",
        "        return os.path.join(self.preprocessed_dir, typ, cls)\n",
        "    \n",
        "    def _get_class_size(self, typ, cls, prop):\n",
        "        return int(math.floor(len(os.listdir(os.path.join(self.raw_path, cls))) * prop))\n",
        "\n",
        "    def _populate_directories(self):\n",
        "        \n",
        "        self.raw_images = {\n",
        "            cls: os.listdir(self._get_raw_class_path(cls))\n",
        "                 for cls in self.classes\n",
        "        }\n",
        "\n",
        "        self._sizes = {\n",
        "            typ: {\n",
        "                cls: self._get_class_size(typ, cls, prop)\n",
        "                     for cls in self.classes\n",
        "            } for typ, prop in zip(self.data_dir_names, self.data_dir_props)\n",
        "        }\n",
        "\n",
        "        print(self._sizes)\n",
        "\n",
        "        self._images = {\n",
        "            typ: {\n",
        "                cls: []\n",
        "                     for cls in self.classes\n",
        "            } for typ in self.data_dir_names\n",
        "        }\n",
        "\n",
        "        start = 0\n",
        "        for typ in self.data_dir_names:\n",
        "            start = 0\n",
        "            for cls in self.classes:\n",
        "                size = self._sizes[typ][cls]\n",
        "                start = 0\n",
        "\n",
        "                for i in range(start, start+size):\n",
        "                    try:\n",
        "                        img = self.raw_images[cls][i]\n",
        "                        src = os.path.join(self._get_raw_class_path(cls), img)\n",
        "                        dst = os.path.join(self._get_class_path(typ, cls), img)\n",
        "                        self._images[typ][cls].append(img)\n",
        "\n",
        "                        shutil.copy(src, dst)\n",
        "\n",
        "                    except Exception as e:\n",
        "                        # print(str(e))\n",
        "                        pass\n",
        "\n",
        "            start += size\n",
        "\n",
        "        self.n_files = sum( [sum([ len(self._images[typ][cls]) for cls in self.classes ]) for typ in self.data_dir_names] )\n",
        "        \n",
        "    def __repr__(self):\n",
        "        return \"Found {} files belongs to {} Classes\".format(self.n_files, self.n_classes)\n"
      ],
      "metadata": {
        "id": "lyIneYRE5O18"
      },
      "execution_count": null,
      "outputs": []
    },
    {
      "cell_type": "code",
      "source": [
        "!rm -rf /content/rockpaperscissors_cleaned"
      ],
      "metadata": {
        "id": "WdrvHi_kY30e"
      },
      "execution_count": null,
      "outputs": []
    },
    {
      "cell_type": "code",
      "source": [
        "dir_setup = DirectorySetup(\"rockpaperscissors\")\n",
        "dir_setup.setup(\"rockpaperscissors_cleaned\")\n",
        "\n",
        "print(dir_setup)"
      ],
      "metadata": {
        "colab": {
          "base_uri": "https://localhost:8080/"
        },
        "id": "p2Clg3W_5Ozl",
        "outputId": "8d0496a8-14ef-4983-cbc9-58caa3d21ef7"
      },
      "execution_count": null,
      "outputs": [
        {
          "output_type": "stream",
          "name": "stdout",
          "text": [
            "{'train': {'rock': 580, 'paper': 569, 'scissors': 600}, 'test': {'rock': 72, 'paper': 71, 'scissors': 75}, 'valid': {'rock': 72, 'paper': 71, 'scissors': 75}}\n",
            "Found 2185 files belongs to 3 Classes\n"
          ]
        }
      ]
    },
    {
      "cell_type": "code",
      "source": [
        "BASE_DIR = \"rockpaperscissors_cleaned\"\n",
        "\n",
        "train_dir = os.path.join(BASE_DIR, \"train\")\n",
        "valid_dir = os.path.join(BASE_DIR, \"valid\")\n",
        "test_dir  = os.path.join(BASE_DIR, \"test\" )"
      ],
      "metadata": {
        "id": "X9qSMra9ddSw"
      },
      "execution_count": null,
      "outputs": []
    },
    {
      "cell_type": "code",
      "source": [
        "IMAGE_SIZE = 100\n",
        "\n",
        "train_ds = datasets.ImageFolder(\n",
        "    train_dir,\n",
        "    transform=transforms.Compose([\n",
        "        transforms.Resize(IMAGE_SIZE),\n",
        "        transforms.CenterCrop(IMAGE_SIZE),\n",
        "        transforms.RandomRotation(45.),\n",
        "        transforms.RandomVerticalFlip(),\n",
        "        transforms.RandomHorizontalFlip(),\n",
        "        transforms.ToTensor(),\n",
        "        transforms.Normalize(\n",
        "            mean=[0.485, 0.456, 0.406],\n",
        "            std=[0.229, 0.224, 0.225]\n",
        "        ),\n",
        "    ]),\n",
        ")\n",
        "\n",
        "valid_ds = datasets.ImageFolder(\n",
        "    valid_dir,\n",
        "    transform=transforms.Compose([\n",
        "        transforms.Resize(IMAGE_SIZE),\n",
        "        transforms.CenterCrop(IMAGE_SIZE),\n",
        "        transforms.ToTensor(),\n",
        "        transforms.Normalize(\n",
        "            mean=[0.485, 0.456, 0.406],\n",
        "            std=[0.229, 0.224, 0.225]\n",
        "        ),\n",
        "\n",
        "    ]),\n",
        ")\n",
        "\n",
        "test_ds = datasets.ImageFolder(\n",
        "    test_dir,\n",
        "    transform=transforms.Compose([\n",
        "        transforms.Resize(IMAGE_SIZE),\n",
        "        transforms.CenterCrop(IMAGE_SIZE),\n",
        "        transforms.ToTensor(),\n",
        "        transforms.Normalize(\n",
        "            mean=[0.485, 0.456, 0.406],\n",
        "            std=[0.229, 0.224, 0.225]\n",
        "        ),\n",
        "    ]),\n",
        ")\n"
      ],
      "metadata": {
        "id": "f59FnBMKWJMi"
      },
      "execution_count": null,
      "outputs": []
    },
    {
      "cell_type": "code",
      "execution_count": null,
      "metadata": {
        "id": "may1oYFI3dEm"
      },
      "outputs": [],
      "source": [
        "BATCH_SIZE = 32\n",
        "\n",
        "train_dl = DataLoader(train_ds, batch_size=BATCH_SIZE, shuffle=True)\n",
        "valid_dl = DataLoader(valid_ds, batch_size=BATCH_SIZE, shuffle=True)\n",
        "test_dl  = DataLoader(test_ds , batch_size=BATCH_SIZE, shuffle=True)"
      ]
    },
    {
      "cell_type": "code",
      "source": [
        "for images, labels in train_dl:\n",
        "    print(images.shape, labels.shape)\n",
        "    break"
      ],
      "metadata": {
        "colab": {
          "base_uri": "https://localhost:8080/"
        },
        "id": "AAZ_z1K6fqUa",
        "outputId": "64b89ad8-38ae-4a81-e504-6e5c1ce766f1"
      },
      "execution_count": null,
      "outputs": [
        {
          "output_type": "stream",
          "name": "stdout",
          "text": [
            "torch.Size([32, 3, 100, 100]) torch.Size([32])\n"
          ]
        }
      ]
    },
    {
      "cell_type": "code",
      "source": [
        "class RockPaperScissors_Model_V1(nn.Module):\n",
        "    def __init__(self):\n",
        "        super().__init__()\n",
        "\n",
        "        self.block_1 = nn.Sequential(\n",
        "            nn.Conv2d(in_channels= 3, out_channels=64, kernel_size=3, stride=1, padding=1),\n",
        "            nn.ReLU(),\n",
        "            nn.Conv2d(in_channels=64, out_channels=32, kernel_size=3, stride=1, padding=1),\n",
        "            nn.ReLU(),\n",
        "            nn.MaxPool2d(kernel_size=2),\n",
        "        )\n",
        "\n",
        "        self.block_2 = nn.Sequential(\n",
        "            nn.Conv2d(in_channels=32, out_channels=16, kernel_size=3, stride=1, padding=1),\n",
        "            nn.ReLU(),\n",
        "            nn.Conv2d(in_channels=16, out_channels=32, kernel_size=3, stride=1, padding=1),\n",
        "            nn.ReLU(),\n",
        "            nn.MaxPool2d(kernel_size=2),\n",
        "        )\n",
        "\n",
        "        self.block_3 = nn.Sequential(\n",
        "            nn.Conv2d(in_channels=32, out_channels=16, kernel_size=3, stride=1, padding=1),\n",
        "            nn.ReLU(),\n",
        "            nn.Conv2d(in_channels=16, out_channels=16, kernel_size=3, stride=1, padding=1),\n",
        "            nn.ReLU(),\n",
        "            nn.MaxPool2d(kernel_size=2),\n",
        "        )\n",
        "        \n",
        "        in_features = self.__get_size()\n",
        "\n",
        "        self.block_4 = nn.Sequential(\n",
        "            nn.Flatten(),\n",
        "            nn.Linear(in_features=in_features, out_features=32),\n",
        "            nn.ReLU(),\n",
        "            nn.Linear(in_features=32, out_features=3),\n",
        "        )\n",
        "\n",
        "    def __get_size(self):\n",
        "        conv_out_shape = np.asarray(self.block_3(self.block_2(self.block_1(\n",
        "            torch.rand(32, 3, IMAGE_SIZE, IMAGE_SIZE)))\n",
        "        ).shape)\n",
        "\n",
        "        return np.product(conv_out_shape[1:])\n",
        "\n",
        "    def forward(self, x):\n",
        "        out = self.block_1(x)\n",
        "        out = self.block_2(out)\n",
        "        out = self.block_3(out)\n",
        "        out = self.block_4(out)\n",
        "\n",
        "        return out\n"
      ],
      "metadata": {
        "id": "2RsrfnHEf21h"
      },
      "execution_count": null,
      "outputs": []
    },
    {
      "cell_type": "code",
      "source": [
        "device = \"cuda\" if torch.cuda.is_available() else \"cpu\"\n",
        "print(\"Device Used: \", device)\n",
        "\n",
        "model_v1 = RockPaperScissors_Model_V1().to(device)"
      ],
      "metadata": {
        "colab": {
          "base_uri": "https://localhost:8080/"
        },
        "id": "zU0dzz_Fkmg3",
        "outputId": "cb0290be-b7e9-4129-d992-65a34fb27f21"
      },
      "execution_count": null,
      "outputs": [
        {
          "output_type": "stream",
          "name": "stdout",
          "text": [
            "Device Used:  cuda\n"
          ]
        }
      ]
    },
    {
      "cell_type": "code",
      "source": [
        "torchinfo.summary(model_v1, input_size=(32, 3, IMAGE_SIZE, IMAGE_SIZE), device=device)"
      ],
      "metadata": {
        "colab": {
          "base_uri": "https://localhost:8080/"
        },
        "id": "Kp4z679VlIeB",
        "outputId": "34b94f88-1c63-4987-b911-987fb09dd250"
      },
      "execution_count": null,
      "outputs": [
        {
          "output_type": "execute_result",
          "data": {
            "text/plain": [
              "==========================================================================================\n",
              "Layer (type:depth-idx)                   Output Shape              Param #\n",
              "==========================================================================================\n",
              "RockPaperScissors_Model_V1               [32, 3]                   --\n",
              "├─Sequential: 1-1                        [32, 32, 50, 50]          --\n",
              "│    └─Conv2d: 2-1                       [32, 64, 100, 100]        1,792\n",
              "│    └─ReLU: 2-2                         [32, 64, 100, 100]        --\n",
              "│    └─Conv2d: 2-3                       [32, 32, 100, 100]        18,464\n",
              "│    └─ReLU: 2-4                         [32, 32, 100, 100]        --\n",
              "│    └─MaxPool2d: 2-5                    [32, 32, 50, 50]          --\n",
              "├─Sequential: 1-2                        [32, 32, 25, 25]          --\n",
              "│    └─Conv2d: 2-6                       [32, 16, 50, 50]          4,624\n",
              "│    └─ReLU: 2-7                         [32, 16, 50, 50]          --\n",
              "│    └─Conv2d: 2-8                       [32, 32, 50, 50]          4,640\n",
              "│    └─ReLU: 2-9                         [32, 32, 50, 50]          --\n",
              "│    └─MaxPool2d: 2-10                   [32, 32, 25, 25]          --\n",
              "├─Sequential: 1-3                        [32, 16, 12, 12]          --\n",
              "│    └─Conv2d: 2-11                      [32, 16, 25, 25]          4,624\n",
              "│    └─ReLU: 2-12                        [32, 16, 25, 25]          --\n",
              "│    └─Conv2d: 2-13                      [32, 16, 25, 25]          2,320\n",
              "│    └─ReLU: 2-14                        [32, 16, 25, 25]          --\n",
              "│    └─MaxPool2d: 2-15                   [32, 16, 12, 12]          --\n",
              "├─Sequential: 1-4                        [32, 3]                   --\n",
              "│    └─Flatten: 2-16                     [32, 2304]                --\n",
              "│    └─Linear: 2-17                      [32, 32]                  73,760\n",
              "│    └─ReLU: 2-18                        [32, 32]                  --\n",
              "│    └─Linear: 2-19                      [32, 3]                   99\n",
              "==========================================================================================\n",
              "Total params: 110,323\n",
              "Trainable params: 110,323\n",
              "Non-trainable params: 0\n",
              "Total mult-adds (G): 7.36\n",
              "==========================================================================================\n",
              "Input size (MB): 3.84\n",
              "Forward/backward pass size (MB): 281.61\n",
              "Params size (MB): 0.44\n",
              "Estimated Total Size (MB): 285.89\n",
              "=========================================================================================="
            ]
          },
          "metadata": {},
          "execution_count": 15
        }
      ]
    },
    {
      "cell_type": "code",
      "source": [
        "criterion = nn.CrossEntropyLoss()\n",
        "optimizer = torch.optim.Adam(params=model_v1.parameters(), lr=1e-3)"
      ],
      "metadata": {
        "id": "DRiiFIuJsAUZ"
      },
      "execution_count": null,
      "outputs": []
    },
    {
      "cell_type": "code",
      "source": [
        "class Trainer:\n",
        "    def __init__(self, model, criterion, optimizer, device, verbose=True):\n",
        "        self.model = model\n",
        "        self.criterion = criterion\n",
        "        self.optimizer = optimizer\n",
        "        self.device = device\n",
        "        self.verbose = verbose\n",
        "\n",
        "        self.results = {\n",
        "            \"train_loss\": [],\n",
        "            \"valid_loss\": [],\n",
        "            \"train_acc\" : [],\n",
        "            \"valid_acc\" : [],\n",
        "        }\n",
        "\n",
        "        self.fitted = False\n",
        "\n",
        "\n",
        "    def __train_step(self, train_dl: DataLoader, valid_dl: DataLoader):\n",
        "\n",
        "        train_acc, train_loss = 0, 0\n",
        "        valid_acc, valid_loss = 0, 0\n",
        "\n",
        "        for batch, (images, labels) in enumerate(train_dl):\n",
        "            images, labels = images.to(self.device), labels.to(self.device)\n",
        "\n",
        "            predictions = self.model(images)\n",
        "\n",
        "            loss = self.criterion(predictions, labels)\n",
        "            \n",
        "            train_loss += loss.item()\n",
        "            train_acc += torch.sum( torch.argmax(\n",
        "                torch.softmax(predictions, dim=1), dim=1) == labels \n",
        "                ).item() / len(labels)\n",
        "\n",
        "            self.optimizer.zero_grad()\n",
        "\n",
        "            loss.backward()\n",
        "\n",
        "            self.optimizer.step()\n",
        "\n",
        "        train_loss /= len(train_dl)\n",
        "        train_acc /= len(train_dl)\n",
        "\n",
        "        self.model.eval()\n",
        "\n",
        "        with torch.inference_mode():\n",
        "            for batch, (images, labels) in enumerate(valid_dl):\n",
        "                images, labels = images.to(self.device), labels.to(self.device)\n",
        "\n",
        "                predictions = self.model(images)\n",
        "\n",
        "                loss = self.criterion(predictions, labels)\n",
        "                \n",
        "                valid_loss += loss.item()\n",
        "                valid_acc += torch.sum( torch.argmax(\n",
        "                    torch.softmax(predictions, dim=1), dim=1) == labels \n",
        "                    ).item() / len(labels)\n",
        "\n",
        "            valid_loss /= len(valid_dl)\n",
        "            valid_acc /= len(valid_dl)\n",
        "\n",
        "        return train_loss, train_acc, valid_loss, valid_acc\n",
        "\n",
        "\n",
        "    def __test_step(self, test_dl: DataLoader):\n",
        "\n",
        "        test_acc, test_loss = 0, 0\n",
        "\n",
        "        self.model.eval()\n",
        "\n",
        "        with torch.inference_mode():\n",
        "            for batch, (images, labels) in enumerate(test_dl):\n",
        "                images, labels = images.to(self.device), labels.to(self.device)\n",
        "\n",
        "                predictions = self.model(images)\n",
        "\n",
        "                loss = self.criterion(predictions, labels)\n",
        "                \n",
        "                test_loss += loss.item()\n",
        "                test_acc += torch.sum( torch.argmax(\n",
        "                    torch.softmax(predictions, dim=1), dim=1) == labels \n",
        "                    ).item() / len(labels)\n",
        "\n",
        "            test_loss /= len(test_dl)\n",
        "            test_acc /= len(test_dl)\n",
        "\n",
        "        return test_acc, test_loss\n",
        "\n",
        "\n",
        "    def train(self, train_dl: DataLoader, valid_dl: DataLoader, epochs: int=10):\n",
        "\n",
        "        self.model.train()\n",
        "\n",
        "        for i in tqdm(range(epochs)):\n",
        "\n",
        "            train_loss, train_acc, valid_loss, valid_acc = self.__train_step(train_dl, valid_dl)\n",
        "\n",
        "            self.results[\"train_loss\"].append(train_loss)\n",
        "            self.results[\"valid_loss\"].append(valid_loss)\n",
        "            self.results[\"train_acc\"].append(train_acc)\n",
        "            self.results[\"valid_acc\"].append(valid_acc)\n",
        "\n",
        "            if self.verbose:\n",
        "                print(\"Epoch [{:2d}/{:2d}] Train Loss : {:8.3f} | Train Acc: {:8.3f} | Valid Loss: {:8.3f} | Valid Acc: {:8.3f}\"\\\n",
        "                      .format(i+1, epochs, train_loss, train_acc, valid_loss, valid_acc))\n",
        "        \n",
        "        self.fitted = True\n",
        "\n",
        "        return self.results\n",
        "\n",
        "\n",
        "    def evaluate(self, test_dl: DataLoader):\n",
        "        if not self.fitted:\n",
        "            raise ValueError(\"must fit the mode first. call train method first\")\n",
        "\n",
        "        test_acc, test_loss = self.__test_step(test_dl)\n",
        "        \n",
        "        if self.verbose:\n",
        "            print(\"Test Loss : {:8.3f} | Test Acc: {:8.3f}\".format(test_loss, test_acc))\n",
        "\n",
        "        return test_loss, test_acc\n",
        "\n",
        "\n",
        "    def plot_model_results(self):\n",
        "\n",
        "        if not self.fitted:\n",
        "            raise ValueError(\"must fit the mode first. call train method first\")\n",
        "\n",
        "        fig, (ax1, ax2) = plt.subplots(nrows=1, ncols=2, figsize=(14, 4))\n",
        "        \n",
        "        xdata = range(1, len(self.results[\"train_acc\"])+1)\n",
        "\n",
        "        ax1.plot(xdata, self.results[\"train_loss\"], label=\"Train Loss\")\n",
        "        ax1.plot(xdata, self.results[\"valid_loss\"], label=\"Valid Loss\")\n",
        "        ax1.set_xlabel(\"Epochs\");ax1.set_ylabel(\"Loss\")\n",
        "        ax1.set_title(\"Model Loss\")\n",
        "\n",
        "        ax2.plot(xdata, self.results[\"train_acc\"], label=\"Train Acc\")\n",
        "        ax2.plot(xdata, self.results[\"valid_acc\"], label=\"Valid Acc\")\n",
        "        ax2.set_xlabel(\"Epochs\");ax2.set_ylabel(\"Accuracy\")\n",
        "        ax2.set_title(\"Model Accuracy\")\n",
        "\n",
        "        ax1.legend(); ax2.legend()\n",
        "\n",
        "\n",
        "    def save(self, filename: str):\n",
        "        if not self.fitted:\n",
        "            raise ValueError(\"must fit the mode first. call train method first\")\n",
        "\n",
        "        torch.save(self.model, filename)\n",
        "\n",
        "        print(\"Model Saved Successfully as [{}]\".format(filename))\n",
        "\n",
        "\n",
        "    def load(self, filename: str):\n",
        "        model = torch.load(filename)\n",
        "\n",
        "        print(\"Model Loaded Successfully from [{}]\".format(filename))\n",
        "\n",
        "        return model\n"
      ],
      "metadata": {
        "id": "NbNkJ84dmKn5"
      },
      "execution_count": null,
      "outputs": []
    },
    {
      "cell_type": "code",
      "source": [
        "EPOCHS = 10\n",
        "\n",
        "trainer = Trainer(model=model_v1, criterion=criterion, optimizer=optimizer, device=device)"
      ],
      "metadata": {
        "id": "G7E5eqoawF8i"
      },
      "execution_count": null,
      "outputs": []
    },
    {
      "cell_type": "code",
      "source": [
        "model_v1_results = trainer.train(train_dl=train_dl, valid_dl=valid_dl, epochs=EPOCHS)"
      ],
      "metadata": {
        "colab": {
          "base_uri": "https://localhost:8080/",
          "height": 223,
          "referenced_widgets": [
            "66968d88e274495291bbac8e32a54cdb",
            "bcb65f3a652e4d029811698f4e9be7aa",
            "3c5f5ca4f9144c1d9f28a67a2f4fab4f",
            "0ac80f4701c94cfcb39cedf77d688966",
            "a81861cfb80e4ce0b3fab7a65bfb3a17",
            "507312fbaccb45fc8f375cbb790e9962",
            "c1804757d09e45d183aea5857f3e0450",
            "bf5508185c5546f28794c39d9452e781",
            "77b6ccc76bc9485f893884a508f1cc15",
            "9ac1573c363b44368e3c4e34b70829fe",
            "740fec54c64c4e6e964f11dabd263c61"
          ]
        },
        "id": "HQYa_5lt_xYT",
        "outputId": "132765f4-2c9d-42c5-8bd2-acaa34e7f7bd"
      },
      "execution_count": null,
      "outputs": [
        {
          "output_type": "display_data",
          "data": {
            "text/plain": [
              "  0%|          | 0/10 [00:00<?, ?it/s]"
            ],
            "application/vnd.jupyter.widget-view+json": {
              "version_major": 2,
              "version_minor": 0,
              "model_id": "66968d88e274495291bbac8e32a54cdb"
            }
          },
          "metadata": {}
        },
        {
          "output_type": "stream",
          "name": "stdout",
          "text": [
            "Epoch [ 1/10] Train Loss :    1.067 | Train Acc:    0.383 | Valid Loss:    0.938 | Valid Acc:    0.666\n",
            "Epoch [ 2/10] Train Loss :    0.786 | Train Acc:    0.686 | Valid Loss:    0.430 | Valid Acc:    0.871\n",
            "Epoch [ 3/10] Train Loss :    0.478 | Train Acc:    0.834 | Valid Loss:    0.306 | Valid Acc:    0.875\n",
            "Epoch [ 4/10] Train Loss :    0.341 | Train Acc:    0.870 | Valid Loss:    0.190 | Valid Acc:    0.939\n",
            "Epoch [ 5/10] Train Loss :    0.172 | Train Acc:    0.944 | Valid Loss:    0.093 | Valid Acc:    0.959\n",
            "Epoch [ 6/10] Train Loss :    0.155 | Train Acc:    0.940 | Valid Loss:    0.077 | Valid Acc:    0.973\n",
            "Epoch [ 7/10] Train Loss :    0.101 | Train Acc:    0.966 | Valid Loss:    0.114 | Valid Acc:    0.962\n",
            "Epoch [ 8/10] Train Loss :    0.098 | Train Acc:    0.969 | Valid Loss:    0.081 | Valid Acc:    0.973\n",
            "Epoch [ 9/10] Train Loss :    0.082 | Train Acc:    0.974 | Valid Loss:    0.057 | Valid Acc:    0.982\n",
            "Epoch [10/10] Train Loss :    0.068 | Train Acc:    0.980 | Valid Loss:    0.062 | Valid Acc:    0.986\n"
          ]
        }
      ]
    },
    {
      "cell_type": "code",
      "source": [
        "trainer.plot_model_results()"
      ],
      "metadata": {
        "colab": {
          "base_uri": "https://localhost:8080/",
          "height": 295
        },
        "id": "2R53-D8S3k3E",
        "outputId": "0ea66f94-7479-4878-f974-288cf6fed047"
      },
      "execution_count": null,
      "outputs": [
        {
          "output_type": "display_data",
          "data": {
            "text/plain": [
              "<Figure size 1008x288 with 2 Axes>"
            ],
            "image/png": "[encoded data removed]"
          },
          "metadata": {
            "needs_background": "light"
          }
        }
      ]
    },
    {
      "cell_type": "code",
      "source": [
        "trainer.evaluate(test_dl)"
      ],
      "metadata": {
        "colab": {
          "base_uri": "https://localhost:8080/"
        },
        "id": "R_bZ-Q3J600n",
        "outputId": "7162df16-a57e-4959-911c-6df04d51b46a"
      },
      "execution_count": null,
      "outputs": [
        {
          "output_type": "stream",
          "name": "stdout",
          "text": [
            "Test Loss :    0.060 | Test Acc:    0.987\n"
          ]
        },
        {
          "output_type": "execute_result",
          "data": {
            "text/plain": [
              "(0.060288155251847844, 0.9866071428571429)"
            ]
          },
          "metadata": {},
          "execution_count": 21
        }
      ]
    },
    {
      "cell_type": "code",
      "source": [
        "trainer.save(\"model_v1.pt\")"
      ],
      "metadata": {
        "colab": {
          "base_uri": "https://localhost:8080/"
        },
        "id": "vwIZ8z5M7Iic",
        "outputId": "faa7431a-b43d-4a1d-f7d8-551b2ceae8b9"
      },
      "execution_count": null,
      "outputs": [
        {
          "output_type": "stream",
          "name": "stdout",
          "text": [
            "Model Saved Successfully as [model_v1.pt]\n"
          ]
        }
      ]
    },
    {
      "cell_type": "code",
      "source": [
        "!ls -la | grep model_v1.pt"
      ],
      "metadata": {
        "colab": {
          "base_uri": "https://localhost:8080/"
        },
        "id": "8USe3MYtA3Sf",
        "outputId": "199a5562-9a3c-4f06-cf38-cbe45460e950"
      },
      "execution_count": null,
      "outputs": [
        {
          "output_type": "stream",
          "name": "stdout",
          "text": [
            "-rw-r--r-- 1 root root    451061 Dec  7 09:45 model_v1.pt\n"
          ]
        }
      ]
    },
    {
      "cell_type": "code",
      "source": [
        "loaded_model_v1 = trainer.load(\"model_v1.pt\")\n",
        "torchinfo.summary(loaded_model_v1, input_size=(32, 3, IMAGE_SIZE, IMAGE_SIZE), device=device)"
      ],
      "metadata": {
        "colab": {
          "base_uri": "https://localhost:8080/"
        },
        "id": "Ode622dn_sjB",
        "outputId": "1d93f08c-d868-4bf5-a67d-0a666cf5dfd1"
      },
      "execution_count": null,
      "outputs": [
        {
          "output_type": "stream",
          "name": "stdout",
          "text": [
            "Model Loaded Successfully from [model_v1.pt]\n"
          ]
        },
        {
          "output_type": "execute_result",
          "data": {
            "text/plain": [
              "==========================================================================================\n",
              "Layer (type:depth-idx)                   Output Shape              Param #\n",
              "==========================================================================================\n",
              "RockPaperScissors_Model_V1               [32, 3]                   --\n",
              "├─Sequential: 1-1                        [32, 32, 50, 50]          --\n",
              "│    └─Conv2d: 2-1                       [32, 64, 100, 100]        1,792\n",
              "│    └─ReLU: 2-2                         [32, 64, 100, 100]        --\n",
              "│    └─Conv2d: 2-3                       [32, 32, 100, 100]        18,464\n",
              "│    └─ReLU: 2-4                         [32, 32, 100, 100]        --\n",
              "│    └─MaxPool2d: 2-5                    [32, 32, 50, 50]          --\n",
              "├─Sequential: 1-2                        [32, 32, 25, 25]          --\n",
              "│    └─Conv2d: 2-6                       [32, 16, 50, 50]          4,624\n",
              "│    └─ReLU: 2-7                         [32, 16, 50, 50]          --\n",
              "│    └─Conv2d: 2-8                       [32, 32, 50, 50]          4,640\n",
              "│    └─ReLU: 2-9                         [32, 32, 50, 50]          --\n",
              "│    └─MaxPool2d: 2-10                   [32, 32, 25, 25]          --\n",
              "├─Sequential: 1-3                        [32, 16, 12, 12]          --\n",
              "│    └─Conv2d: 2-11                      [32, 16, 25, 25]          4,624\n",
              "│    └─ReLU: 2-12                        [32, 16, 25, 25]          --\n",
              "│    └─Conv2d: 2-13                      [32, 16, 25, 25]          2,320\n",
              "│    └─ReLU: 2-14                        [32, 16, 25, 25]          --\n",
              "│    └─MaxPool2d: 2-15                   [32, 16, 12, 12]          --\n",
              "├─Sequential: 1-4                        [32, 3]                   --\n",
              "│    └─Flatten: 2-16                     [32, 2304]                --\n",
              "│    └─Linear: 2-17                      [32, 32]                  73,760\n",
              "│    └─ReLU: 2-18                        [32, 32]                  --\n",
              "│    └─Linear: 2-19                      [32, 3]                   99\n",
              "==========================================================================================\n",
              "Total params: 110,323\n",
              "Trainable params: 110,323\n",
              "Non-trainable params: 0\n",
              "Total mult-adds (G): 7.36\n",
              "==========================================================================================\n",
              "Input size (MB): 3.84\n",
              "Forward/backward pass size (MB): 281.61\n",
              "Params size (MB): 0.44\n",
              "Estimated Total Size (MB): 285.89\n",
              "=========================================================================================="
            ]
          },
          "metadata": {},
          "execution_count": 25
        }
      ]
    }
  ]
}